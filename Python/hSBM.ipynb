{
 "cells": [
  {
   "cell_type": "markdown",
   "metadata": {},
   "source": [
    "# Implementing Network approach to topic modelling\n",
    "## Gerlach"
   ]
  },
  {
   "cell_type": "code",
   "execution_count": null,
   "metadata": {},
   "outputs": [],
   "source": [
    "import matplotlib"
   ]
  },
  {
   "cell_type": "code",
   "execution_count": null,
   "metadata": {},
   "outputs": [],
   "source": [
    "from platform import python_version\n",
    "\n",
    "print(python_version())"
   ]
  },
  {
   "cell_type": "code",
   "execution_count": null,
   "metadata": {},
   "outputs": [],
   "source": [
    "# Gerlach\n",
    "#%load_ext autoreload\n",
    "#%autoreload 2\n",
    "\n",
    "import os\n",
    "import pylab as plt\n",
    "#%matplotlib inline  \n",
    "\n",
    "from sbmtm import sbmtm\n",
    "import graph_tool.all as gt"
   ]
  },
  {
   "cell_type": "code",
   "execution_count": null,
   "metadata": {},
   "outputs": [],
   "source": [
    "import pandas as pd\n",
    "import numpy as np\n",
    "import re\n",
    "from itertools import chain"
   ]
  },
  {
   "cell_type": "code",
   "execution_count": null,
   "metadata": {},
   "outputs": [],
   "source": [
    "data = pd.read_csv(\"data/Prostate/clean_posts.csv\")"
   ]
  },
  {
   "cell_type": "code",
   "execution_count": null,
   "metadata": {},
   "outputs": [],
   "source": [
    "#texts = data[\"Text\"].values.tolist()\n",
    "#titles = data[\"Day\"].values.tolist()\n",
    "\n",
    "#texts = data[\"word\"].values.tolist()\n",
    "#titles = data[\"ID\"].values.tolist()\n",
    "\n",
    "texts = data[\"Content\"].values.tolist()\n",
    "titles = data[\"Post_ID\"].values.tolist()"
   ]
  },
  {
   "cell_type": "code",
   "execution_count": null,
   "metadata": {},
   "outputs": [],
   "source": [
    "texts = [str(c).split() for c in texts]"
   ]
  },
  {
   "cell_type": "code",
   "execution_count": null,
   "metadata": {
    "scrolled": true
   },
   "outputs": [],
   "source": [
    "i_doc = 0\n",
    "texts"
   ]
  },
  {
   "cell_type": "code",
   "execution_count": null,
   "metadata": {},
   "outputs": [],
   "source": [
    "for i in range(10):\n",
    "    print(i)\n",
    "    model = sbmtm()\n",
    "\n",
    "    ## we have to create the word-document network from the corpus\n",
    "    model.make_graph(texts,documents=titles)\n",
    "\n",
    "    ## we can also skip the previous step by saving/loading a graph\n",
    "    # model.save_graph(filename = 'graph.xml.gz')\n",
    "    # model.load_graph(filename = 'graph.xml.gz')\n",
    "\n",
    "    ## fit the model\n",
    "    #gt.seed_rng(32) ## seed for graph-tool's random number generator --> same results\n",
    "    model.fit()\n",
    "    topics = model.topics(l=0,n=10)\n",
    "    \n",
    "    if len(topics) > 1:\n",
    "        break\n"
   ]
  },
  {
   "cell_type": "code",
   "execution_count": null,
   "metadata": {},
   "outputs": [],
   "source": [
    "#model.plot(nedges = 1000)"
   ]
  },
  {
   "cell_type": "code",
   "execution_count": null,
   "metadata": {
    "scrolled": true
   },
   "outputs": [],
   "source": [
    "topics = model.topics(l=0,n=20)"
   ]
  },
  {
   "cell_type": "code",
   "execution_count": null,
   "metadata": {
    "scrolled": true
   },
   "outputs": [],
   "source": [
    "#topics"
   ]
  },
  {
   "cell_type": "code",
   "execution_count": null,
   "metadata": {
    "scrolled": true
   },
   "outputs": [],
   "source": [
    "clusters = model.clusters(l=0,n=99999)"
   ]
  },
  {
   "cell_type": "code",
   "execution_count": null,
   "metadata": {},
   "outputs": [],
   "source": [
    "#clusters"
   ]
  },
  {
   "cell_type": "code",
   "execution_count": 43,
   "metadata": {},
   "outputs": [
    {
     "output_type": "error",
     "ename": "SyntaxError",
     "evalue": "invalid syntax (<ipython-input-43-e0e75c407a71>, line 19)",
     "traceback": [
      "\u001b[0;36m  File \u001b[0;32m\"<ipython-input-43-e0e75c407a71>\"\u001b[0;36m, line \u001b[0;32m19\u001b[0m\n\u001b[0;31m    pd.DataFrame.to_csv(pd.DataFrame(model.words), \"\".join([\"../data/Prostate/Topic_Model/prostate_words_all_\", \".csv\"]))\u001b[0m\n\u001b[0m     ^\u001b[0m\n\u001b[0;31mSyntaxError\u001b[0m\u001b[0;31m:\u001b[0m invalid syntax\n"
     ]
    }
   ],
   "source": [
    "for level in range(0,model.L+1):\n",
    "\n",
    "    group_results = model.get_groups(l = level)\n",
    "\n",
    "    p_tw_w = group_results['p_tw_w']\n",
    "    p_td_d = group_results['p_td_d']\n",
    "    p_w_tw = group_results['p_w_tw']\n",
    "    p_tw_d = group_results['p_tw_d']\n",
    "    p_td_tw = model.group_to_group_mixture(l = level)\n",
    "\n",
    "    pd.DataFrame.to_csv(pd.DataFrame(p_tw_w), \"\".join([\"data/Prostate/Topic_Model/prostate_p_tw_w\",\"_level_\", str(level), \".csv\"]))\n",
    "    pd.DataFrame.to_csv(pd.DataFrame(p_td_d), \"\".join([\"data/Prostate/Topic_Model/prostate_p_td_d\",\"_level_\",str(level), \".csv\"]))\n",
    "    pd.DataFrame.to_csv(pd.DataFrame(p_w_tw), \"\".join([\"data/Prostate/Topic_Model/prostate_p_w_tw\",\"_level_\", str(level), \".csv\"]))\n",
    "    pd.DataFrame.to_csv(pd.DataFrame(p_tw_d), \"\".join([\"data/Prostate/Topic_Model/prostate_p_tw_d\", \"_level_\",str(level), \".csv\"]))\n",
    "    pd.DataFrame.to_csv(pd.DataFrame(p_td_tw), \"\".join([\"data/Prostate/Topic_Model/prostate_p_td_tw\", \"_level_\",str(level), \".csv\"]))\n",
    "\n",
    "pd.DataFrame.to_csv(pd.DataFrame(model.words), \"\".join([\"data/Prostate/Topic_Model/prostate_words_all_\", \".csv\"]))\n",
    "pd.DataFrame.to_csv(pd.DataFrame(model.documents), \"\".join([\"data/Prostate/Topic_Model/prostate_documents_all_\", \".csv\"]))\n"
   ]
  },
  {
   "cell_type": "code",
   "execution_count": 1,
   "metadata": {},
   "outputs": [
    {
     "output_type": "error",
     "ename": "NameError",
     "evalue": "name 'model' is not defined",
     "traceback": [
      "\u001b[0;31m---------------------------------------------------------------------------\u001b[0m",
      "\u001b[0;31mNameError\u001b[0m                                 Traceback (most recent call last)",
      "\u001b[0;32m<ipython-input-1-dc6cff3bc9be>\u001b[0m in \u001b[0;36m<module>\u001b[0;34m()\u001b[0m\n\u001b[0;32m----> 1\u001b[0;31m \u001b[0mmodel\u001b[0m\u001b[0;34m.\u001b[0m\u001b[0mwords\u001b[0m\u001b[0;34m\u001b[0m\u001b[0;34m\u001b[0m\u001b[0m\n\u001b[0m",
      "\u001b[0;31mNameError\u001b[0m: name 'model' is not defined"
     ]
    }
   ],
   "source": []
  },
  {
   "cell_type": "code",
   "execution_count": 2,
   "metadata": {},
   "outputs": [
    {
     "output_type": "execute_result",
     "data": {
      "text/plain": [
       "range(0, 3)"
      ]
     },
     "metadata": {},
     "execution_count": 2
    }
   ],
   "source": []
  },
  {
   "cell_type": "code",
   "execution_count": null,
   "metadata": {},
   "outputs": [],
   "source": []
  }
 ],
 "metadata": {
  "kernelspec": {
   "display_name": "Python 3",
   "language": "python",
   "name": "python3"
  },
  "language_info": {
   "codemirror_mode": {
    "name": "ipython",
    "version": 3
   },
   "file_extension": ".py",
   "mimetype": "text/x-python",
   "name": "python",
   "nbconvert_exporter": "python",
   "pygments_lexer": "ipython3",
   "version": "3.6.9-final"
  }
 },
 "nbformat": 4,
 "nbformat_minor": 4
}